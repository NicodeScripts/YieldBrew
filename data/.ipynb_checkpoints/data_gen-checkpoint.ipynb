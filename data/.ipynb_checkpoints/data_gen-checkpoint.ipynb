{
 "cells": [
  {
   "cell_type": "code",
   "execution_count": 2,
   "id": "55178399-624c-4a9b-a435-a9927808828c",
   "metadata": {},
   "outputs": [],
   "source": [
    "import numpy as np\n",
    "import pandas as pd"
   ]
  },
  {
   "cell_type": "code",
   "execution_count": 5,
   "id": "2a72f7e1-54f8-4ded-8ed1-cd704e73e13a",
   "metadata": {},
   "outputs": [],
   "source": [
    "N = 1000  # Number of samples\n",
    "\n",
    "rainfall = np.random.uniform(800, 2000, N)            # mm/year\n",
    "avg_temp = np.random.uniform(18, 28, N)               # °C of course\n",
    "elevation = np.random.uniform(800, 2000, N)           # meters\n",
    "fertilizer = np.random.uniform(30, 150, N)            # kg/ha\n",
    "tree_age = np.random.uniform(2, 15, N)                # years\n",
    "irrigation = np.random.choice([0, 1], N, p=[0.6, 0.4])  # binary\n",
    "soil_quality = np.random.choice([0, 1, 2], N, p=[0.3, 0.5, 0.2])  # 0=poor, 1=moderate, 2=rich"
   ]
  },
  {
   "cell_type": "code",
   "execution_count": 12,
   "id": "cde83e80-adb3-4d1b-a03b-225b33409645",
   "metadata": {},
   "outputs": [],
   "source": [
    "yield_base = (\n",
    "    0.005 * rainfall +                        # more rain helps\n",
    "    -0.1 * (avg_temp - 22)**2 +              # ideal temp ~22°C\n",
    "    0.03 * fertilizer -                      # more fertilizer helps\n",
    "    0.5 * tree_age +                         # older trees yield more until a point\n",
    "    100 * irrigation +                       # irrigation boost\n",
    "    200 * soil_quality                       # soil impact\n",
    ")\n",
    "\n",
    "yield_base -= (0.003* elevation-1000)\n",
    "\n",
    "noise = np.random.normal(0, 200, N)  # kg/ha\n",
    "\n",
    "yield_kg_per_ha = np.clip(yield_base + noise, 0, None)"
   ]
  },
  {
   "cell_type": "code",
   "execution_count": 10,
   "id": "7d39de84-b87f-4167-b7f1-a76867379c6d",
   "metadata": {},
   "outputs": [],
   "source": [
    "df = pd.DataFrame({\n",
    "    \"rainfall_mm\": rainfall,\n",
    "    \"avg_temp\": avg_temp,\n",
    "    \"elevation_m\": elevation,\n",
    "    \"fertilizer_kg\": fertilizer,\n",
    "    \"tree_age_yrs\": tree_age,\n",
    "    \"irrigation\": irrigation,\n",
    "    \"soil_quality\": soil_quality,\n",
    "    \"yield_kg_per_ha\": yield_kg_per_ha\n",
    "})\n",
    "df.to_csv('data.csv', index=False) "
   ]
  }
 ],
 "metadata": {
  "kernelspec": {
   "display_name": "Python (BASE-GPU)",
   "language": "python",
   "name": "base-gpu"
  },
  "language_info": {
   "codemirror_mode": {
    "name": "ipython",
    "version": 3
   },
   "file_extension": ".py",
   "mimetype": "text/x-python",
   "name": "python",
   "nbconvert_exporter": "python",
   "pygments_lexer": "ipython3",
   "version": "3.10.16"
  }
 },
 "nbformat": 4,
 "nbformat_minor": 5
}
