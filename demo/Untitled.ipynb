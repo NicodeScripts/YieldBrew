{
 "cells": [
  {
   "cell_type": "code",
   "execution_count": 14,
   "id": "678f80f8-31fb-4bf1-8f2f-8014e574b18f",
   "metadata": {
    "scrolled": true
   },
   "outputs": [
    {
     "name": "stderr",
     "output_type": "stream",
     "text": [
      "C:\\Users\\nicho\\AppData\\Local\\Temp\\ipykernel_19920\\2532888983.py:31: FutureWarning: You are using `torch.load` with `weights_only=False` (the current default value), which uses the default pickle module implicitly. It is possible to construct malicious pickle data which will execute arbitrary code during unpickling (See https://github.com/pytorch/pytorch/blob/main/SECURITY.md#untrusted-models for more details). In a future release, the default value for `weights_only` will be flipped to `True`. This limits the functions that could be executed during unpickling. Arbitrary objects will no longer be allowed to be loaded via this mode unless they are explicitly allowlisted by the user via `torch.serialization.add_safe_globals`. We recommend you start setting `weights_only=True` for any use case where you don't have full control of the loaded file. Please open an issue on GitHub for any issues related to this experimental feature.\n",
      "  model.load_state_dict(torch.load(MODEL_PATH))\n"
     ]
    },
    {
     "name": "stdout",
     "output_type": "stream",
     "text": [
      "Loaded trained model.\n",
      "* Running on local URL:  http://127.0.0.1:7862\n",
      "* To create a public link, set `share=True` in `launch()`.\n"
     ]
    },
    {
     "data": {
      "text/html": [
       "<div><iframe src=\"http://127.0.0.1:7862/\" width=\"100%\" height=\"500\" allow=\"autoplay; camera; microphone; clipboard-read; clipboard-write;\" frameborder=\"0\" allowfullscreen></iframe></div>"
      ],
      "text/plain": [
       "<IPython.core.display.HTML object>"
      ]
     },
     "metadata": {},
     "output_type": "display_data"
    },
    {
     "data": {
      "text/plain": []
     },
     "execution_count": 14,
     "metadata": {},
     "output_type": "execute_result"
    }
   ],
   "source": [
    "import gradio as gr\n",
    "import torch\n",
    "import numpy as np\n",
    "import pandas as pd\n",
    "import joblib\n",
    "import sys\n",
    "import os\n",
    "\n",
    "# Add the root directory to sys.path otherwise import fails\n",
    "sys.path.append(os.path.abspath(os.path.join(os.getcwd(), \"..\")))\n",
    "from model.network import ReNN\n",
    "\n",
    "# --- Constants\n",
    "MODEL_PATH = \"../model/model.pth\"\n",
    "SCALER_X_PATH = \"../model/scaler_X.pkl\"\n",
    "SCALER_Y_PATH = \"../model/scaler_y.pkl\"\n",
    "\n",
    "# --- Load scalers\n",
    "if os.path.exists(SCALER_X_PATH) and os.path.exists(SCALER_Y_PATH):\n",
    "    scaler_X = joblib.load(SCALER_X_PATH)\n",
    "    scaler_y = joblib.load(SCALER_Y_PATH)\n",
    "else:\n",
    "    raise FileNotFoundError(\"Scaler files not found. Please train the model first.\")\n",
    "\n",
    "# --- Dummy input to get input size\n",
    "input_size = scaler_X.mean_.shape[0]\n",
    "\n",
    "# --- Load model\n",
    "model = ReNN(input_size)\n",
    "if os.path.exists(MODEL_PATH):\n",
    "    model.load_state_dict(torch.load(MODEL_PATH))\n",
    "    model.eval()\n",
    "    print(\"Loaded trained model.\")\n",
    "else:\n",
    "    print(\"Model not found. Using untrained model.\")\n",
    "\n",
    "def predict_yield(rainfall, temperature, elevation, fertilizer, shade, soil_type):\n",
    "    # One-hot encode soil type\n",
    "    soil_loamy = 1 if soil_type == \"Loamy\" else 0\n",
    "    soil_clay = 1 if soil_type == \"Clay\" else 0\n",
    "    \n",
    "    input_data = np.array([[rainfall, temperature, elevation, fertilizer, shade, soil_loamy, soil_clay]])\n",
    "    \n",
    "    # Scale input\n",
    "    X_scaled = scaler_X.transform(input_data)\n",
    "    X_tensor = torch.tensor(X_scaled, dtype=torch.float32)\n",
    "    \n",
    "    with torch.no_grad():\n",
    "        y_pred = model(X_tensor)\n",
    "    \n",
    "    # Inverse transform prediction\n",
    "    y_unscaled = scaler_y.inverse_transform(y_pred.numpy())\n",
    "    \n",
    "    return round(float(y_unscaled[0][0]), 2)\n",
    "\n",
    "inputs = [\n",
    "    gr.Slider(500, 3000, label=\"Rainfall (mm/year)\"),\n",
    "    gr.Slider(10, 35, label=\"Avg Temperature (°C)\"),\n",
    "    gr.Slider(500, 2000, label=\"Elevation (m)\"),\n",
    "    gr.Slider(0, 100, label=\"Fertilizer (kg/ha)\"),\n",
    "    gr.Slider(0, 100, label=\"Shade Trees (%)\"),\n",
    "    gr.Dropdown([\"Loamy\", \"Clay\"], label=\"Soil Type\"),\n",
    "]\n",
    "\n",
    "output = gr.Number(label=\"Predicted Yield (kg/ha)\")\n",
    "\n",
    "demo = gr.Interface(fn=predict_yield, inputs=inputs, outputs=output, title=\"YieldBrew: Coffee Yield Estimator\")\n",
    "demo.launch()\n",
    "\n"
   ]
  }
 ],
 "metadata": {
  "kernelspec": {
   "display_name": "Python (BASE-GPU)",
   "language": "python",
   "name": "base-gpu"
  },
  "language_info": {
   "codemirror_mode": {
    "name": "ipython",
    "version": 3
   },
   "file_extension": ".py",
   "mimetype": "text/x-python",
   "name": "python",
   "nbconvert_exporter": "python",
   "pygments_lexer": "ipython3",
   "version": "3.10.16"
  }
 },
 "nbformat": 4,
 "nbformat_minor": 5
}
