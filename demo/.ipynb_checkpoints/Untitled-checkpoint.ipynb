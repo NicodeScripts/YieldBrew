{
 "cells": [
  {
   "cell_type": "code",
   "execution_count": 13,
   "id": "678f80f8-31fb-4bf1-8f2f-8014e574b18f",
   "metadata": {
    "scrolled": true
   },
   "outputs": [
    {
     "name": "stderr",
     "output_type": "stream",
     "text": [
      "C:\\Users\\nicho\\AppData\\Local\\Temp\\ipykernel_19920\\4096014162.py:34: FutureWarning: You are using `torch.load` with `weights_only=False` (the current default value), which uses the default pickle module implicitly. It is possible to construct malicious pickle data which will execute arbitrary code during unpickling (See https://github.com/pytorch/pytorch/blob/main/SECURITY.md#untrusted-models for more details). In a future release, the default value for `weights_only` will be flipped to `True`. This limits the functions that could be executed during unpickling. Arbitrary objects will no longer be allowed to be loaded via this mode unless they are explicitly allowlisted by the user via `torch.serialization.add_safe_globals`. We recommend you start setting `weights_only=True` for any use case where you don't have full control of the loaded file. Please open an issue on GitHub for any issues related to this experimental feature.\n",
      "  model.load_state_dict(torch.load(MODEL_PATH))\n"
     ]
    },
    {
     "name": "stdout",
     "output_type": "stream",
     "text": [
      "Loaded trained model.\n",
      "* Running on local URL:  http://127.0.0.1:7860\n",
      "* To create a public link, set `share=True` in `launch()`.\n"
     ]
    },
    {
     "data": {
      "text/html": [
       "<div><iframe src=\"http://127.0.0.1:7860/\" width=\"100%\" height=\"500\" allow=\"autoplay; camera; microphone; clipboard-read; clipboard-write;\" frameborder=\"0\" allowfullscreen></iframe></div>"
      ],
      "text/plain": [
       "<IPython.core.display.HTML object>"
      ]
     },
     "metadata": {},
     "output_type": "display_data"
    },
    {
     "data": {
      "text/plain": []
     },
     "execution_count": 13,
     "metadata": {},
     "output_type": "execute_result"
    }
   ],
   "source": [
    "import gradio as gr\n",
    "import torch\n",
    "import numpy as np\n",
    "import pandas as pd\n",
    "import joblib\n",
    "import sys\n",
    "import os\n",
    "\n",
    "# Add the root directory to sys.path otherwise import fails\n",
    "sys.path.append(os.path.abspath(os.path.join(os.getcwd(), \"..\")))\n",
    "from model.network import ReNN\n",
    "\n",
    "# --- Constants\n",
    "MODEL_PATH = \"../model/model.pth\"\n",
    "SCALER_X_PATH = \"../model/scaler_X.pkl\"\n",
    "SCALER_Y_PATH = \"../model/scaler_y.pkl\"\n",
    "\n",
    "# --- Load scalers\n",
    "if os.path.exists(SCALER_X_PATH) and os.path.exists(SCALER_Y_PATH):\n",
    "    scaler_X = joblib.load(SCALER_X_PATH)\n",
    "    scaler_y = joblib.load(SCALER_Y_PATH)\n",
    "else:\n",
    "    raise FileNotFoundError(\"Scaler files not found. Please train the model first.\")\n",
    "\n",
    "# --- Dummy input to get input size\n",
    "input_size = scaler_X.mean_.shape[0]\n",
    "\n",
    "# --- Load model\n",
    "model = ReNN(input_size)\n",
    "if os.path.exists(MODEL_PATH):\n",
    "    model.load_state_dict(torch.load(MODEL_PATH))\n",
    "    model.eval()\n",
    "    print(\"Loaded trained model.\")\n",
    "else:\n",
    "    print(\"Model not found. Using untrained model.\")\n",
    "\n",
    "# --- Define prediction function\n",
    "def predict_yield(*features):\n",
    "    input_array = np.array(features).reshape(1, -1)\n",
    "    input_scaled = scaler_X.transform(input_array)\n",
    "    input_tensor = torch.tensor(input_scaled, dtype=torch.float32)\n",
    "    \n",
    "    with torch.no_grad():\n",
    "        output = model(input_tensor)\n",
    "    \n",
    "    output_unscaled = scaler_y.inverse_transform(output.numpy())\n",
    "    return float(output_unscaled[0][0])\n",
    "\n",
    "# --- Define feature labels\n",
    "feature_labels = [f\"Feature {i+1}\" for i in range(input_size)]\n",
    "\n",
    "# --- Create input components (you can name/label them specifically)\n",
    "inputs = [gr.Number(label=label) for label in feature_labels]\n",
    "output = gr.Number(label=\"Predicted Coffee Yield (kg/ha)\")\n",
    "\n",
    "# --- Launch interface\n",
    "demo = gr.Interface(fn=predict_yield, inputs=inputs, outputs=output, title=\"YieldBrew – Coffee Yield Predictor\")\n",
    "demo.launch()\n"
   ]
  }
 ],
 "metadata": {
  "kernelspec": {
   "display_name": "Python (BASE-GPU)",
   "language": "python",
   "name": "base-gpu"
  },
  "language_info": {
   "codemirror_mode": {
    "name": "ipython",
    "version": 3
   },
   "file_extension": ".py",
   "mimetype": "text/x-python",
   "name": "python",
   "nbconvert_exporter": "python",
   "pygments_lexer": "ipython3",
   "version": "3.10.16"
  }
 },
 "nbformat": 4,
 "nbformat_minor": 5
}
