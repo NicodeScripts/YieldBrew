{
 "cells": [
  {
   "cell_type": "code",
   "execution_count": 7,
   "id": "73e8eb4d-15fd-4284-bfa3-46182b2d77ac",
   "metadata": {},
   "outputs": [],
   "source": [
    "import torch\n",
    "import torch.nn as nn\n",
    "import torch.optim as optim\n",
    "import pandas as pd\n",
    "import numpy as np\n",
    "from sklearn.model_selection import train_test_split\n",
    "from sklearn.preprocessing import StandardScaler\n",
    "import joblib\n",
    "import os\n",
    "from network import ReNN"
   ]
  },
  {
   "cell_type": "code",
   "execution_count": 2,
   "id": "416a3077-39b5-4182-ad6c-3a5951cf0db0",
   "metadata": {},
   "outputs": [],
   "source": [
    "df = pd.read_csv(\"../data/synthetic_data.csv\")\n",
    "\n",
    "X = df.drop(\"yield_kg_per_ha\", axis=1).values\n",
    "y = df[\"yield_kg_per_ha\"].values.reshape(-1, 1)\n",
    "\n",
    "scaler_X = StandardScaler()\n",
    "X_scaled = scaler_X.fit_transform(X)\n",
    "\n",
    "scaler_y = StandardScaler()\n",
    "y_scaled = scaler_y.fit_transform(y)\n",
    "\n",
    "joblib.dump(scaler_X, \"scaler_X.pkl\")\n",
    "joblib.dump(scaler_y, \"scaler_y.pkl\")\n",
    "\n",
    "X_tensor = torch.tensor(X_scaled, dtype=torch.float32)\n",
    "y_tensor = torch.tensor(y_scaled, dtype=torch.float32)\n",
    "\n",
    "X_train, X_test, y_train, y_test = train_test_split(X_tensor, y_tensor, test_size=0.2)\n",
    "\n",
    "train_dataset = torch.utils.data.TensorDataset(X_train, y_train)\n",
    "train_loader = torch.utils.data.DataLoader(train_dataset, batch_size=32, shuffle=True)\n"
   ]
  },
  {
   "cell_type": "code",
   "execution_count": 12,
   "id": "f1f1c75a-a72e-4a89-a838-c68ceb82d32f",
   "metadata": {},
   "outputs": [
    {
     "name": "stderr",
     "output_type": "stream",
     "text": [
      "C:\\Users\\nicho\\AppData\\Local\\Temp\\ipykernel_13104\\2892501736.py:4: FutureWarning: You are using `torch.load` with `weights_only=False` (the current default value), which uses the default pickle module implicitly. It is possible to construct malicious pickle data which will execute arbitrary code during unpickling (See https://github.com/pytorch/pytorch/blob/main/SECURITY.md#untrusted-models for more details). In a future release, the default value for `weights_only` will be flipped to `True`. This limits the functions that could be executed during unpickling. Arbitrary objects will no longer be allowed to be loaded via this mode unless they are explicitly allowlisted by the user via `torch.serialization.add_safe_globals`. We recommend you start setting `weights_only=True` for any use case where you don't have full control of the loaded file. Please open an issue on GitHub for any issues related to this experimental feature.\n",
      "  model.load_state_dict(torch.load(path))\n"
     ]
    },
    {
     "name": "stdout",
     "output_type": "stream",
     "text": [
      "Model loaded from model.pth\n",
      "Epoch 0, Loss: 0.1015\n",
      "Epoch 10, Loss: 0.0918\n",
      "Model trained. Final Loss: 0.0686\n"
     ]
    }
   ],
   "source": [
    "def initialize_model(input_size, path=\"model.pth\"):\n",
    "    model = ReNN(input_size)\n",
    "    if os.path.exists(path):\n",
    "        model.load_state_dict(torch.load(path))\n",
    "        model.eval()\n",
    "        print(\"Model loaded from\", path)\n",
    "    else:\n",
    "        print(\"Model not found, using new untrained model.\")\n",
    "    return model\n",
    "\n",
    "input_size = X.shape[1]\n",
    "model = initialize_model(input_size)\n",
    "\n",
    "criterion = nn.MSELoss()\n",
    "optimizer = optim.Adam(model.parameters(), lr=0.001)\n",
    "\n",
    "epochs = 250\n",
    "for epoch in range(epochs):\n",
    "    model.train()\n",
    "    for batch_X, batch_y in train_loader:\n",
    "        optimizer.zero_grad()\n",
    "        output = model(batch_X)\n",
    "        loss = criterion(output, batch_y)\n",
    "        loss.backward()\n",
    "        optimizer.step()\n",
    "\n",
    "    if epoch % 10 == 0:\n",
    "        print(f\"Epoch {epoch}, Loss: {loss.item():.4f}\")\n",
    "\n",
    "print(f\"Model trained. Final Loss: {loss.item():.4f}\")"
   ]
  },
  {
   "cell_type": "code",
   "execution_count": 9,
   "id": "77de9c6b-55c3-4f8e-b3b9-20ae1ac580c0",
   "metadata": {},
   "outputs": [
    {
     "name": "stdout",
     "output_type": "stream",
     "text": [
      "Training complete. Model and scalers saved.\n"
     ]
    }
   ],
   "source": [
    "torch.save(model.state_dict(), \"model.pth\")"
   ]
  },
  {
   "cell_type": "code",
   "execution_count": 51,
   "id": "e9a0218b-de94-4033-a63b-e779f8229ec8",
   "metadata": {},
   "outputs": [],
   "source": [
    "import torch\n",
    "import gradio as gr\n",
    "import numpy as np\n",
    "import joblib"
   ]
  },
  {
   "cell_type": "code",
   "execution_count": 57,
   "id": "43f9db38-d2b9-452f-8e4f-f5ad5ef74141",
   "metadata": {},
   "outputs": [],
   "source": [
    "def predict_yield(rainfall, temperature, elevation, fertilizer, shade, soil_type):\n",
    "    # One-hot encode soil type\n",
    "    soil_loamy = 1 if soil_type == \"Loamy\" else 0\n",
    "    soil_clay = 1 if soil_type == \"Clay\" else 0\n",
    "    \n",
    "    input_data = np.array([[rainfall, temperature, elevation, fertilizer, shade, soil_loamy, soil_clay]])\n",
    "    \n",
    "    # Scale input\n",
    "    X_scaled = scaler_X.transform(input_data)\n",
    "    X_tensor = torch.tensor(X_scaled, dtype=torch.float32)\n",
    "    \n",
    "    with torch.no_grad():\n",
    "        y_pred = model(X_tensor)\n",
    "    \n",
    "    # Inverse transform prediction\n",
    "    y_unscaled = scaler_y.inverse_transform(y_pred.numpy())\n",
    "    \n",
    "    return round(float(y_unscaled[0][0]), 2)\n"
   ]
  },
  {
   "cell_type": "code",
   "execution_count": 58,
   "id": "0fcf824b-3476-41cd-a6cc-13d83060494e",
   "metadata": {},
   "outputs": [
    {
     "name": "stdout",
     "output_type": "stream",
     "text": [
      "* Running on local URL:  http://127.0.0.1:7860\n",
      "* To create a public link, set `share=True` in `launch()`.\n"
     ]
    },
    {
     "data": {
      "text/html": [
       "<div><iframe src=\"http://127.0.0.1:7860/\" width=\"100%\" height=\"500\" allow=\"autoplay; camera; microphone; clipboard-read; clipboard-write;\" frameborder=\"0\" allowfullscreen></iframe></div>"
      ],
      "text/plain": [
       "<IPython.core.display.HTML object>"
      ]
     },
     "metadata": {},
     "output_type": "display_data"
    },
    {
     "data": {
      "text/plain": []
     },
     "execution_count": 58,
     "metadata": {},
     "output_type": "execute_result"
    }
   ],
   "source": [
    "inputs = [\n",
    "    gr.Slider(500, 3000, label=\"Rainfall (mm/year)\"),\n",
    "    gr.Slider(10, 35, label=\"Avg Temperature (°C)\"),\n",
    "    gr.Slider(500, 2000, label=\"Elevation (m)\"),\n",
    "    gr.Slider(0, 100, label=\"Fertilizer (kg/ha)\"),\n",
    "    gr.Slider(0, 100, label=\"Shade Trees (%)\"),\n",
    "    gr.Dropdown([\"Loamy\", \"Clay\"], label=\"Soil Type\"),\n",
    "]\n",
    "\n",
    "output = gr.Number(label=\"Predicted Yield (kg/ha)\")\n",
    "\n",
    "demo = gr.Interface(fn=predict_yield, inputs=inputs, outputs=output, title=\"YieldBrew: Coffee Yield Estimator\")\n",
    "demo.launch()\n"
   ]
  }
 ],
 "metadata": {
  "kernelspec": {
   "display_name": "Python (BASE-GPU)",
   "language": "python",
   "name": "base-gpu"
  },
  "language_info": {
   "codemirror_mode": {
    "name": "ipython",
    "version": 3
   },
   "file_extension": ".py",
   "mimetype": "text/x-python",
   "name": "python",
   "nbconvert_exporter": "python",
   "pygments_lexer": "ipython3",
   "version": "3.10.16"
  }
 },
 "nbformat": 4,
 "nbformat_minor": 5
}
